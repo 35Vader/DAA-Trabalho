{
 "cells": [
  {
   "cell_type": "code",
   "execution_count": 1,
   "id": "74265906-5f3f-424c-ab16-99a4b851936d",
   "metadata": {},
   "outputs": [],
   "source": [
    "import pandas as pd\n",
    "import seaborn as sns\n",
    "import matplotlib.pyplot as plt\n",
    "import datetime as dt\n",
    "import time\n",
    "import calendar\n",
    "import datetime\n",
    "from sklearn.model_selection import train_test_split\n",
    "from sklearn.model_selection import KFold\n",
    "from sklearn.tree import DecisionTreeClassifier\n",
    "from sklearn.tree import DecisionTreeRegressor\n",
    "from sklearn.metrics import confusion_matrix\n",
    "from sklearn.metrics import ConfusionMatrixDisplay\n",
    "from sklearn.metrics import recall_score\n",
    "from sklearn.metrics import accuracy_score\n",
    "from sklearn.metrics import precision_score\n",
    "from sklearn.metrics import roc_auc_score\n",
    "from sklearn.metrics import roc_curve\n",
    "from sklearn.metrics import RocCurveDisplay\n",
    "from sklearn.metrics import f1_score\n",
    "from sklearn.metrics import fbeta_score\n",
    "from sklearn.metrics import mean_absolute_error\n",
    "from sklearn.metrics import mean_squared_error\n",
    "from datetime import date\n",
    "from sklearn.model_selection import GridSearchCV\n",
    "import matplotlib.pyplot as plt\n",
    "import pandas as pd\n",
    "import numpy as np\n",
    "#USING CROSS VALIDATION\n",
    "from sklearn.model_selection import cross_val_score\n",
    "from sklearn.svm import SVC\n",
    "from sklearn.metrics import classification_report, plot_confusion_matrix, accuracy_score\n",
    "from sklearn.linear_model import LogisticRegression, LinearRegression"
   ]
  },
  {
   "cell_type": "code",
   "execution_count": 2,
   "id": "3fecd2c6-b5a4-4a5c-9187-409943940bd8",
   "metadata": {},
   "outputs": [
    {
     "data": {
      "text/plain": [
       "Index(['city_name', 'record_date', 'AVERAGE_FREE_FLOW_SPEED',\n",
       "       'AVERAGE_TIME_DIFF', 'AVERAGE_FREE_FLOW_TIME', 'LUMINOSITY',\n",
       "       'AVERAGE_TEMPERATURE', 'AVERAGE_ATMOSP_PRESSURE', 'AVERAGE_HUMIDITY',\n",
       "       'AVERAGE_WIND_SPEED', 'AVERAGE_CLOUDINESS', 'AVERAGE_PRECIPITATION',\n",
       "       'AVERAGE_RAIN'],\n",
       "      dtype='object')"
      ]
     },
     "execution_count": 2,
     "metadata": {},
     "output_type": "execute_result"
    }
   ],
   "source": [
    "'''\n",
    "load CSV\n",
    "'''\n",
    "df = pd.read_csv('training_data.csv',encoding = \"ISO-8859-1\")\n",
    "df.columns\n",
    "df_test = pd.read_csv('test_data.csv',encoding = \"ISO-8859-1\")\n",
    "df_test.columns"
   ]
  },
  {
   "cell_type": "code",
   "execution_count": 3,
   "id": "c8b7d33b-8d9d-4409-a103-02c3e5ecb70a",
   "metadata": {},
   "outputs": [
    {
     "data": {
      "text/html": [
       "<div>\n",
       "<style scoped>\n",
       "    .dataframe tbody tr th:only-of-type {\n",
       "        vertical-align: middle;\n",
       "    }\n",
       "\n",
       "    .dataframe tbody tr th {\n",
       "        vertical-align: top;\n",
       "    }\n",
       "\n",
       "    .dataframe thead th {\n",
       "        text-align: right;\n",
       "    }\n",
       "</style>\n",
       "<table border=\"1\" class=\"dataframe\">\n",
       "  <thead>\n",
       "    <tr style=\"text-align: right;\">\n",
       "      <th></th>\n",
       "      <th>city_name</th>\n",
       "      <th>record_date</th>\n",
       "      <th>AVERAGE_SPEED_DIFF</th>\n",
       "      <th>AVERAGE_FREE_FLOW_SPEED</th>\n",
       "      <th>AVERAGE_TIME_DIFF</th>\n",
       "      <th>AVERAGE_FREE_FLOW_TIME</th>\n",
       "      <th>LUMINOSITY</th>\n",
       "      <th>AVERAGE_TEMPERATURE</th>\n",
       "      <th>AVERAGE_ATMOSP_PRESSURE</th>\n",
       "      <th>AVERAGE_HUMIDITY</th>\n",
       "      <th>AVERAGE_WIND_SPEED</th>\n",
       "      <th>AVERAGE_CLOUDINESS</th>\n",
       "      <th>AVERAGE_PRECIPITATION</th>\n",
       "      <th>AVERAGE_RAIN</th>\n",
       "    </tr>\n",
       "  </thead>\n",
       "  <tbody>\n",
       "    <tr>\n",
       "      <th>0</th>\n",
       "      <td>Porto</td>\n",
       "      <td>2019-08-29 07:00:00</td>\n",
       "      <td>Medium</td>\n",
       "      <td>41.5</td>\n",
       "      <td>11.5</td>\n",
       "      <td>71.4</td>\n",
       "      <td>LIGHT</td>\n",
       "      <td>15.0</td>\n",
       "      <td>1019.0</td>\n",
       "      <td>100.0</td>\n",
       "      <td>3.0</td>\n",
       "      <td>NaN</td>\n",
       "      <td>0.0</td>\n",
       "      <td>NaN</td>\n",
       "    </tr>\n",
       "    <tr>\n",
       "      <th>1</th>\n",
       "      <td>Porto</td>\n",
       "      <td>2018-08-10 14:00:00</td>\n",
       "      <td>High</td>\n",
       "      <td>41.7</td>\n",
       "      <td>48.3</td>\n",
       "      <td>87.4</td>\n",
       "      <td>LIGHT</td>\n",
       "      <td>21.0</td>\n",
       "      <td>1021.0</td>\n",
       "      <td>53.0</td>\n",
       "      <td>5.0</td>\n",
       "      <td>céu claro</td>\n",
       "      <td>0.0</td>\n",
       "      <td>NaN</td>\n",
       "    </tr>\n",
       "    <tr>\n",
       "      <th>2</th>\n",
       "      <td>Porto</td>\n",
       "      <td>2019-09-01 16:00:00</td>\n",
       "      <td>High</td>\n",
       "      <td>38.6</td>\n",
       "      <td>38.4</td>\n",
       "      <td>85.2</td>\n",
       "      <td>LIGHT</td>\n",
       "      <td>26.0</td>\n",
       "      <td>1014.0</td>\n",
       "      <td>61.0</td>\n",
       "      <td>4.0</td>\n",
       "      <td>NaN</td>\n",
       "      <td>0.0</td>\n",
       "      <td>NaN</td>\n",
       "    </tr>\n",
       "    <tr>\n",
       "      <th>3</th>\n",
       "      <td>Porto</td>\n",
       "      <td>2019-02-26 11:00:00</td>\n",
       "      <td>High</td>\n",
       "      <td>37.4</td>\n",
       "      <td>61.0</td>\n",
       "      <td>94.1</td>\n",
       "      <td>LIGHT</td>\n",
       "      <td>18.0</td>\n",
       "      <td>1025.0</td>\n",
       "      <td>48.0</td>\n",
       "      <td>4.0</td>\n",
       "      <td>céu claro</td>\n",
       "      <td>0.0</td>\n",
       "      <td>NaN</td>\n",
       "    </tr>\n",
       "    <tr>\n",
       "      <th>4</th>\n",
       "      <td>Porto</td>\n",
       "      <td>2019-06-06 12:00:00</td>\n",
       "      <td>Medium</td>\n",
       "      <td>41.6</td>\n",
       "      <td>50.4</td>\n",
       "      <td>77.0</td>\n",
       "      <td>LIGHT</td>\n",
       "      <td>15.0</td>\n",
       "      <td>1008.0</td>\n",
       "      <td>82.0</td>\n",
       "      <td>10.0</td>\n",
       "      <td>NaN</td>\n",
       "      <td>0.0</td>\n",
       "      <td>NaN</td>\n",
       "    </tr>\n",
       "  </tbody>\n",
       "</table>\n",
       "</div>"
      ],
      "text/plain": [
       "  city_name          record_date AVERAGE_SPEED_DIFF  AVERAGE_FREE_FLOW_SPEED  \\\n",
       "0     Porto  2019-08-29 07:00:00             Medium                     41.5   \n",
       "1     Porto  2018-08-10 14:00:00               High                     41.7   \n",
       "2     Porto  2019-09-01 16:00:00               High                     38.6   \n",
       "3     Porto  2019-02-26 11:00:00               High                     37.4   \n",
       "4     Porto  2019-06-06 12:00:00             Medium                     41.6   \n",
       "\n",
       "   AVERAGE_TIME_DIFF  AVERAGE_FREE_FLOW_TIME LUMINOSITY  AVERAGE_TEMPERATURE  \\\n",
       "0               11.5                    71.4      LIGHT                 15.0   \n",
       "1               48.3                    87.4      LIGHT                 21.0   \n",
       "2               38.4                    85.2      LIGHT                 26.0   \n",
       "3               61.0                    94.1      LIGHT                 18.0   \n",
       "4               50.4                    77.0      LIGHT                 15.0   \n",
       "\n",
       "   AVERAGE_ATMOSP_PRESSURE  AVERAGE_HUMIDITY  AVERAGE_WIND_SPEED  \\\n",
       "0                   1019.0             100.0                 3.0   \n",
       "1                   1021.0              53.0                 5.0   \n",
       "2                   1014.0              61.0                 4.0   \n",
       "3                   1025.0              48.0                 4.0   \n",
       "4                   1008.0              82.0                10.0   \n",
       "\n",
       "  AVERAGE_CLOUDINESS  AVERAGE_PRECIPITATION AVERAGE_RAIN  \n",
       "0                NaN                    0.0          NaN  \n",
       "1          céu claro                    0.0          NaN  \n",
       "2                NaN                    0.0          NaN  \n",
       "3          céu claro                    0.0          NaN  \n",
       "4                NaN                    0.0          NaN  "
      ]
     },
     "execution_count": 3,
     "metadata": {},
     "output_type": "execute_result"
    }
   ],
   "source": [
    "df.head()"
   ]
  },
  {
   "cell_type": "code",
   "execution_count": 4,
   "id": "436656f9-7370-49fc-9580-62edf58b5839",
   "metadata": {},
   "outputs": [
    {
     "name": "stdout",
     "output_type": "stream",
     "text": [
      "<class 'pandas.core.frame.DataFrame'>\n",
      "RangeIndex: 6812 entries, 0 to 6811\n",
      "Data columns (total 14 columns):\n",
      " #   Column                   Non-Null Count  Dtype  \n",
      "---  ------                   --------------  -----  \n",
      " 0   city_name                6812 non-null   object \n",
      " 1   record_date              6812 non-null   object \n",
      " 2   AVERAGE_SPEED_DIFF       6812 non-null   object \n",
      " 3   AVERAGE_FREE_FLOW_SPEED  6812 non-null   float64\n",
      " 4   AVERAGE_TIME_DIFF        6812 non-null   float64\n",
      " 5   AVERAGE_FREE_FLOW_TIME   6812 non-null   float64\n",
      " 6   LUMINOSITY               6812 non-null   object \n",
      " 7   AVERAGE_TEMPERATURE      6812 non-null   float64\n",
      " 8   AVERAGE_ATMOSP_PRESSURE  6812 non-null   float64\n",
      " 9   AVERAGE_HUMIDITY         6812 non-null   float64\n",
      " 10  AVERAGE_WIND_SPEED       6812 non-null   float64\n",
      " 11  AVERAGE_CLOUDINESS       4130 non-null   object \n",
      " 12  AVERAGE_PRECIPITATION    6812 non-null   float64\n",
      " 13  AVERAGE_RAIN             563 non-null    object \n",
      "dtypes: float64(8), object(6)\n",
      "memory usage: 745.2+ KB\n"
     ]
    }
   ],
   "source": [
    "df.info()"
   ]
  },
  {
   "cell_type": "code",
   "execution_count": 5,
   "id": "dff86e5e-a69c-4c30-8293-4f72a75006b8",
   "metadata": {},
   "outputs": [
    {
     "name": "stdout",
     "output_type": "stream",
     "text": [
      "<class 'pandas.core.frame.DataFrame'>\n",
      "RangeIndex: 6812 entries, 0 to 6811\n",
      "Data columns (total 14 columns):\n",
      " #   Column                   Non-Null Count  Dtype  \n",
      "---  ------                   --------------  -----  \n",
      " 0   city_name                6812 non-null   object \n",
      " 1   record_date              6812 non-null   object \n",
      " 2   AVERAGE_SPEED_DIFF       6812 non-null   object \n",
      " 3   AVERAGE_FREE_FLOW_SPEED  6812 non-null   float64\n",
      " 4   AVERAGE_TIME_DIFF        6812 non-null   float64\n",
      " 5   AVERAGE_FREE_FLOW_TIME   6812 non-null   float64\n",
      " 6   LUMINOSITY               6812 non-null   object \n",
      " 7   AVERAGE_TEMPERATURE      6812 non-null   float64\n",
      " 8   AVERAGE_ATMOSP_PRESSURE  6812 non-null   float64\n",
      " 9   AVERAGE_HUMIDITY         6812 non-null   float64\n",
      " 10  AVERAGE_WIND_SPEED       6812 non-null   float64\n",
      " 11  AVERAGE_CLOUDINESS       4130 non-null   object \n",
      " 12  AVERAGE_PRECIPITATION    6812 non-null   float64\n",
      " 13  AVERAGE_RAIN             563 non-null    object \n",
      "dtypes: float64(8), object(6)\n",
      "memory usage: 745.2+ KB\n"
     ]
    }
   ],
   "source": [
    "df.describe()\n",
    "df.info()"
   ]
  },
  {
   "cell_type": "code",
   "execution_count": 6,
   "id": "718010f5-3e35-43ba-b26d-50e3a4ba8f20",
   "metadata": {},
   "outputs": [
    {
     "name": "stdout",
     "output_type": "stream",
     "text": [
      "0       2019-08-29 07:00:00\n",
      "1       2018-08-10 14:00:00\n",
      "2       2019-09-01 16:00:00\n",
      "3       2019-02-26 11:00:00\n",
      "4       2019-06-06 12:00:00\n",
      "               ...         \n",
      "6807    2019-02-23 09:00:00\n",
      "6808    2019-06-08 18:00:00\n",
      "6809    2018-10-02 04:00:00\n",
      "6810    2019-01-30 01:00:00\n",
      "6811    2019-06-15 21:00:00\n",
      "Name: record_date, Length: 6812, dtype: object\n"
     ]
    }
   ],
   "source": [
    "week_days = [\"Monday\", \"Tuesday\", \"Wednesday\", \"Thursday\", \"Friday\", \"Saturday\", \"Sunday\"]\n",
    "print(df.record_date)"
   ]
  },
  {
   "cell_type": "code",
   "execution_count": 7,
   "id": "fa392639-09ef-452c-ad65-5317fb855c92",
   "metadata": {},
   "outputs": [],
   "source": [
    "def findDay(date):\n",
    "    day = datetime.datetime.strptime(date, '%Y-%m-%d').weekday()\n",
    "    return day"
   ]
  },
  {
   "cell_type": "code",
   "execution_count": 8,
   "id": "7437632a-c716-45c1-be18-36436dabed1b",
   "metadata": {},
   "outputs": [],
   "source": [
    "aux = []\n",
    "my_list = df.record_date\n",
    "for date in my_list:\n",
    "    x = date.split(\" \")[0]\n",
    "    # print(x)\n",
    "    aux.append(findDay(x))\n",
    "    # print(aux)\n",
    "df[\"WEEK_DAY\"] = aux\n",
    "\n",
    "aux_test = []\n",
    "my_list_test = df_test.record_date\n",
    "for date_test in my_list_test:\n",
    "    x_test = date_test.split(\" \")[0]\n",
    "    # print(x_test)\n",
    "    aux_test.append(findDay(x_test))\n",
    "    # print(aux_test)\n",
    "df_test[\"WEEK_DAY\"] = aux_test"
   ]
  },
  {
   "cell_type": "code",
   "execution_count": 9,
   "id": "2c451773-50dc-42a0-a932-78dce2c005b4",
   "metadata": {},
   "outputs": [
    {
     "data": {
      "text/plain": [
       "city_name                  False\n",
       "record_date                False\n",
       "AVERAGE_SPEED_DIFF         False\n",
       "AVERAGE_FREE_FLOW_SPEED    False\n",
       "AVERAGE_TIME_DIFF          False\n",
       "AVERAGE_FREE_FLOW_TIME     False\n",
       "LUMINOSITY                 False\n",
       "AVERAGE_TEMPERATURE        False\n",
       "AVERAGE_ATMOSP_PRESSURE    False\n",
       "AVERAGE_HUMIDITY           False\n",
       "AVERAGE_WIND_SPEED         False\n",
       "AVERAGE_CLOUDINESS          True\n",
       "AVERAGE_PRECIPITATION      False\n",
       "AVERAGE_RAIN                True\n",
       "WEEK_DAY                   False\n",
       "dtype: bool"
      ]
     },
     "execution_count": 9,
     "metadata": {},
     "output_type": "execute_result"
    }
   ],
   "source": [
    "'''\n",
    "missing data\n",
    "'''\n",
    "df.isna().any()"
   ]
  },
  {
   "cell_type": "code",
   "execution_count": 10,
   "id": "94b56b4d-6fe6-400a-b33e-bdf555c65cb4",
   "metadata": {},
   "outputs": [
    {
     "data": {
      "text/plain": [
       "<AxesSubplot:>"
      ]
     },
     "execution_count": 10,
     "metadata": {},
     "output_type": "execute_result"
    },
    {
     "data": {
      "image/png": "[encoded data removed]",
      "text/plain": [
       "<Figure size 432x288 with 1 Axes>"
      ]
     },
     "metadata": {
      "needs_background": "light"
     },
     "output_type": "display_data"
    }
   ],
   "source": [
    "sns.heatmap(df.isnull(),yticklabels = False, cbar = False, cmap = 'viridis')"
   ]
  },
  {
   "cell_type": "code",
   "execution_count": 11,
   "id": "ffc55ba3-5bd0-4366-855a-ad52b07acfb1",
   "metadata": {},
   "outputs": [
    {
     "data": {
      "text/plain": [
       "0              céu claro\n",
       "1              céu claro\n",
       "2              céu claro\n",
       "3              céu claro\n",
       "4       nuvens dispersas\n",
       "              ...       \n",
       "6807           céu claro\n",
       "6808           céu claro\n",
       "6809           céu claro\n",
       "6810      algumas nuvens\n",
       "6811                 NaN\n",
       "Name: AVERAGE_CLOUDINESS, Length: 6812, dtype: object"
      ]
     },
     "execution_count": 11,
     "metadata": {},
     "output_type": "execute_result"
    }
   ],
   "source": [
    "#filling missing value (just 1 column) using fillna() and using the next value\n",
    "df['AVERAGE_CLOUDINESS'].fillna(method = 'bfill')"
   ]
  },
  {
   "cell_type": "code",
   "execution_count": 12,
   "id": "eeb9ba5d-217b-41b6-b922-78f9e5090807",
   "metadata": {},
   "outputs": [
    {
     "data": {
      "text/plain": [
       "0       chuva fraca\n",
       "1       chuva fraca\n",
       "2       chuva fraca\n",
       "3       chuva fraca\n",
       "4       chuva fraca\n",
       "           ...     \n",
       "6807            NaN\n",
       "6808            NaN\n",
       "6809            NaN\n",
       "6810            NaN\n",
       "6811            NaN\n",
       "Name: AVERAGE_RAIN, Length: 6812, dtype: object"
      ]
     },
     "execution_count": 12,
     "metadata": {},
     "output_type": "execute_result"
    }
   ],
   "source": [
    "df['AVERAGE_RAIN'].fillna(method = 'bfill')"
   ]
  },
  {
   "cell_type": "code",
   "execution_count": 13,
   "id": "c637b7c5-6b15-44fe-a625-713c781c9482",
   "metadata": {},
   "outputs": [
    {
     "data": {
      "text/plain": [
       "0                  NaN\n",
       "1            céu claro\n",
       "2                  NaN\n",
       "3            céu claro\n",
       "4                  NaN\n",
       "             ...      \n",
       "6807         céu claro\n",
       "6808               NaN\n",
       "6809         céu claro\n",
       "6810    algumas nuvens\n",
       "6811               NaN\n",
       "Name: AVERAGE_CLOUDINESS, Length: 6812, dtype: object"
      ]
     },
     "execution_count": 13,
     "metadata": {},
     "output_type": "execute_result"
    }
   ],
   "source": [
    "#interpolating\n",
    "df['AVERAGE_CLOUDINESS'].interpolate(method = 'linear', limit_direction = 'foward')"
   ]
  },
  {
   "cell_type": "code",
   "execution_count": 14,
   "id": "fd0d9100-8a65-4b35-887e-64711c99c63a",
   "metadata": {},
   "outputs": [
    {
     "data": {
      "text/plain": [
       "0       NaN\n",
       "1       NaN\n",
       "2       NaN\n",
       "3       NaN\n",
       "4       NaN\n",
       "       ... \n",
       "6807    NaN\n",
       "6808    NaN\n",
       "6809    NaN\n",
       "6810    NaN\n",
       "6811    NaN\n",
       "Name: AVERAGE_RAIN, Length: 6812, dtype: object"
      ]
     },
     "execution_count": 14,
     "metadata": {},
     "output_type": "execute_result"
    }
   ],
   "source": [
    "df['AVERAGE_RAIN'].interpolate(method = 'linear', limit_direction = 'foward')"
   ]
  },
  {
   "cell_type": "code",
   "execution_count": 15,
   "id": "78e03515-4390-4314-9cde-117036da06ac",
   "metadata": {},
   "outputs": [
    {
     "data": {
      "text/html": [
       "<div>\n",
       "<style scoped>\n",
       "    .dataframe tbody tr th:only-of-type {\n",
       "        vertical-align: middle;\n",
       "    }\n",
       "\n",
       "    .dataframe tbody tr th {\n",
       "        vertical-align: top;\n",
       "    }\n",
       "\n",
       "    .dataframe thead th {\n",
       "        text-align: right;\n",
       "    }\n",
       "</style>\n",
       "<table border=\"1\" class=\"dataframe\">\n",
       "  <thead>\n",
       "    <tr style=\"text-align: right;\">\n",
       "      <th></th>\n",
       "      <th>city_name</th>\n",
       "      <th>record_date</th>\n",
       "      <th>AVERAGE_SPEED_DIFF</th>\n",
       "      <th>AVERAGE_FREE_FLOW_SPEED</th>\n",
       "      <th>AVERAGE_TIME_DIFF</th>\n",
       "      <th>AVERAGE_FREE_FLOW_TIME</th>\n",
       "      <th>LUMINOSITY</th>\n",
       "      <th>AVERAGE_TEMPERATURE</th>\n",
       "      <th>AVERAGE_ATMOSP_PRESSURE</th>\n",
       "      <th>AVERAGE_HUMIDITY</th>\n",
       "      <th>AVERAGE_WIND_SPEED</th>\n",
       "      <th>AVERAGE_PRECIPITATION</th>\n",
       "      <th>WEEK_DAY</th>\n",
       "    </tr>\n",
       "  </thead>\n",
       "  <tbody>\n",
       "    <tr>\n",
       "      <th>0</th>\n",
       "      <td>Porto</td>\n",
       "      <td>2019-08-29 07:00:00</td>\n",
       "      <td>Medium</td>\n",
       "      <td>41.5</td>\n",
       "      <td>11.5</td>\n",
       "      <td>71.4</td>\n",
       "      <td>LIGHT</td>\n",
       "      <td>15.0</td>\n",
       "      <td>1019.0</td>\n",
       "      <td>100.0</td>\n",
       "      <td>3.0</td>\n",
       "      <td>0.0</td>\n",
       "      <td>3</td>\n",
       "    </tr>\n",
       "    <tr>\n",
       "      <th>1</th>\n",
       "      <td>Porto</td>\n",
       "      <td>2018-08-10 14:00:00</td>\n",
       "      <td>High</td>\n",
       "      <td>41.7</td>\n",
       "      <td>48.3</td>\n",
       "      <td>87.4</td>\n",
       "      <td>LIGHT</td>\n",
       "      <td>21.0</td>\n",
       "      <td>1021.0</td>\n",
       "      <td>53.0</td>\n",
       "      <td>5.0</td>\n",
       "      <td>0.0</td>\n",
       "      <td>4</td>\n",
       "    </tr>\n",
       "    <tr>\n",
       "      <th>2</th>\n",
       "      <td>Porto</td>\n",
       "      <td>2019-09-01 16:00:00</td>\n",
       "      <td>High</td>\n",
       "      <td>38.6</td>\n",
       "      <td>38.4</td>\n",
       "      <td>85.2</td>\n",
       "      <td>LIGHT</td>\n",
       "      <td>26.0</td>\n",
       "      <td>1014.0</td>\n",
       "      <td>61.0</td>\n",
       "      <td>4.0</td>\n",
       "      <td>0.0</td>\n",
       "      <td>6</td>\n",
       "    </tr>\n",
       "    <tr>\n",
       "      <th>3</th>\n",
       "      <td>Porto</td>\n",
       "      <td>2019-02-26 11:00:00</td>\n",
       "      <td>High</td>\n",
       "      <td>37.4</td>\n",
       "      <td>61.0</td>\n",
       "      <td>94.1</td>\n",
       "      <td>LIGHT</td>\n",
       "      <td>18.0</td>\n",
       "      <td>1025.0</td>\n",
       "      <td>48.0</td>\n",
       "      <td>4.0</td>\n",
       "      <td>0.0</td>\n",
       "      <td>1</td>\n",
       "    </tr>\n",
       "    <tr>\n",
       "      <th>4</th>\n",
       "      <td>Porto</td>\n",
       "      <td>2019-06-06 12:00:00</td>\n",
       "      <td>Medium</td>\n",
       "      <td>41.6</td>\n",
       "      <td>50.4</td>\n",
       "      <td>77.0</td>\n",
       "      <td>LIGHT</td>\n",
       "      <td>15.0</td>\n",
       "      <td>1008.0</td>\n",
       "      <td>82.0</td>\n",
       "      <td>10.0</td>\n",
       "      <td>0.0</td>\n",
       "      <td>3</td>\n",
       "    </tr>\n",
       "    <tr>\n",
       "      <th>...</th>\n",
       "      <td>...</td>\n",
       "      <td>...</td>\n",
       "      <td>...</td>\n",
       "      <td>...</td>\n",
       "      <td>...</td>\n",
       "      <td>...</td>\n",
       "      <td>...</td>\n",
       "      <td>...</td>\n",
       "      <td>...</td>\n",
       "      <td>...</td>\n",
       "      <td>...</td>\n",
       "      <td>...</td>\n",
       "      <td>...</td>\n",
       "    </tr>\n",
       "    <tr>\n",
       "      <th>6807</th>\n",
       "      <td>Porto</td>\n",
       "      <td>2019-02-23 09:00:00</td>\n",
       "      <td>Low</td>\n",
       "      <td>41.2</td>\n",
       "      <td>3.7</td>\n",
       "      <td>86.9</td>\n",
       "      <td>LIGHT</td>\n",
       "      <td>9.0</td>\n",
       "      <td>1030.0</td>\n",
       "      <td>71.0</td>\n",
       "      <td>4.0</td>\n",
       "      <td>0.0</td>\n",
       "      <td>5</td>\n",
       "    </tr>\n",
       "    <tr>\n",
       "      <th>6808</th>\n",
       "      <td>Porto</td>\n",
       "      <td>2019-06-08 18:00:00</td>\n",
       "      <td>Medium</td>\n",
       "      <td>38.9</td>\n",
       "      <td>51.9</td>\n",
       "      <td>76.9</td>\n",
       "      <td>LIGHT</td>\n",
       "      <td>17.0</td>\n",
       "      <td>1020.0</td>\n",
       "      <td>63.0</td>\n",
       "      <td>6.0</td>\n",
       "      <td>0.0</td>\n",
       "      <td>5</td>\n",
       "    </tr>\n",
       "    <tr>\n",
       "      <th>6809</th>\n",
       "      <td>Porto</td>\n",
       "      <td>2018-10-02 04:00:00</td>\n",
       "      <td>None</td>\n",
       "      <td>39.6</td>\n",
       "      <td>0.0</td>\n",
       "      <td>89.1</td>\n",
       "      <td>DARK</td>\n",
       "      <td>15.0</td>\n",
       "      <td>1020.0</td>\n",
       "      <td>39.0</td>\n",
       "      <td>4.0</td>\n",
       "      <td>0.0</td>\n",
       "      <td>1</td>\n",
       "    </tr>\n",
       "    <tr>\n",
       "      <th>6810</th>\n",
       "      <td>Porto</td>\n",
       "      <td>2019-01-30 01:00:00</td>\n",
       "      <td>None</td>\n",
       "      <td>41.6</td>\n",
       "      <td>0.0</td>\n",
       "      <td>85.5</td>\n",
       "      <td>DARK</td>\n",
       "      <td>8.0</td>\n",
       "      <td>1018.0</td>\n",
       "      <td>81.0</td>\n",
       "      <td>1.0</td>\n",
       "      <td>0.0</td>\n",
       "      <td>2</td>\n",
       "    </tr>\n",
       "    <tr>\n",
       "      <th>6811</th>\n",
       "      <td>Porto</td>\n",
       "      <td>2019-06-15 21:00:00</td>\n",
       "      <td>Medium</td>\n",
       "      <td>41.7</td>\n",
       "      <td>32.9</td>\n",
       "      <td>78.1</td>\n",
       "      <td>DARK</td>\n",
       "      <td>15.0</td>\n",
       "      <td>1021.0</td>\n",
       "      <td>72.0</td>\n",
       "      <td>4.0</td>\n",
       "      <td>0.0</td>\n",
       "      <td>5</td>\n",
       "    </tr>\n",
       "  </tbody>\n",
       "</table>\n",
       "<p>6812 rows × 13 columns</p>\n",
       "</div>"
      ],
      "text/plain": [
       "     city_name          record_date AVERAGE_SPEED_DIFF  \\\n",
       "0        Porto  2019-08-29 07:00:00             Medium   \n",
       "1        Porto  2018-08-10 14:00:00               High   \n",
       "2        Porto  2019-09-01 16:00:00               High   \n",
       "3        Porto  2019-02-26 11:00:00               High   \n",
       "4        Porto  2019-06-06 12:00:00             Medium   \n",
       "...        ...                  ...                ...   \n",
       "6807     Porto  2019-02-23 09:00:00                Low   \n",
       "6808     Porto  2019-06-08 18:00:00             Medium   \n",
       "6809     Porto  2018-10-02 04:00:00               None   \n",
       "6810     Porto  2019-01-30 01:00:00               None   \n",
       "6811     Porto  2019-06-15 21:00:00             Medium   \n",
       "\n",
       "      AVERAGE_FREE_FLOW_SPEED  AVERAGE_TIME_DIFF  AVERAGE_FREE_FLOW_TIME  \\\n",
       "0                        41.5               11.5                    71.4   \n",
       "1                        41.7               48.3                    87.4   \n",
       "2                        38.6               38.4                    85.2   \n",
       "3                        37.4               61.0                    94.1   \n",
       "4                        41.6               50.4                    77.0   \n",
       "...                       ...                ...                     ...   \n",
       "6807                     41.2                3.7                    86.9   \n",
       "6808                     38.9               51.9                    76.9   \n",
       "6809                     39.6                0.0                    89.1   \n",
       "6810                     41.6                0.0                    85.5   \n",
       "6811                     41.7               32.9                    78.1   \n",
       "\n",
       "     LUMINOSITY  AVERAGE_TEMPERATURE  AVERAGE_ATMOSP_PRESSURE  \\\n",
       "0         LIGHT                 15.0                   1019.0   \n",
       "1         LIGHT                 21.0                   1021.0   \n",
       "2         LIGHT                 26.0                   1014.0   \n",
       "3         LIGHT                 18.0                   1025.0   \n",
       "4         LIGHT                 15.0                   1008.0   \n",
       "...         ...                  ...                      ...   \n",
       "6807      LIGHT                  9.0                   1030.0   \n",
       "6808      LIGHT                 17.0                   1020.0   \n",
       "6809       DARK                 15.0                   1020.0   \n",
       "6810       DARK                  8.0                   1018.0   \n",
       "6811       DARK                 15.0                   1021.0   \n",
       "\n",
       "      AVERAGE_HUMIDITY  AVERAGE_WIND_SPEED  AVERAGE_PRECIPITATION  WEEK_DAY  \n",
       "0                100.0                 3.0                    0.0         3  \n",
       "1                 53.0                 5.0                    0.0         4  \n",
       "2                 61.0                 4.0                    0.0         6  \n",
       "3                 48.0                 4.0                    0.0         1  \n",
       "4                 82.0                10.0                    0.0         3  \n",
       "...                ...                 ...                    ...       ...  \n",
       "6807              71.0                 4.0                    0.0         5  \n",
       "6808              63.0                 6.0                    0.0         5  \n",
       "6809              39.0                 4.0                    0.0         1  \n",
       "6810              81.0                 1.0                    0.0         2  \n",
       "6811              72.0                 4.0                    0.0         5  \n",
       "\n",
       "[6812 rows x 13 columns]"
      ]
     },
     "execution_count": 15,
     "metadata": {},
     "output_type": "execute_result"
    }
   ],
   "source": [
    "#drop row with at leats one missing value\n",
    "df.dropna(axis = 1, how = 'any')"
   ]
  },
  {
   "cell_type": "code",
   "execution_count": 16,
   "id": "98b0a437-5649-40bd-b8c9-bbcb81e0b335",
   "metadata": {},
   "outputs": [],
   "source": [
    "# remover as colunas que só tem 1 valor\n",
    "df.drop(['city_name'], axis = 1, inplace = True)\n",
    "df.drop(['record_date'], axis = 1, inplace = True)\n",
    "df.drop(['AVERAGE_PRECIPITATION'], axis = 1, inplace = True)\n",
    "df.drop(['AVERAGE_RAIN'], axis = 1, inplace = True) #muitos dados em falta\n",
    "df_test.drop(['city_name'], axis = 1, inplace = True)\n",
    "df_test.drop(['record_date'], axis = 1, inplace = True)\n",
    "df_test.drop(['AVERAGE_PRECIPITATION'], axis = 1, inplace = True)\n",
    "df_test.drop(['AVERAGE_RAIN'], axis = 1, inplace = True) #muitos dados em falta"
   ]
  },
  {
   "cell_type": "code",
   "execution_count": 17,
   "id": "03348abe-0c52-48e1-b16e-00f1d3d92c70",
   "metadata": {},
   "outputs": [
    {
     "name": "stdout",
     "output_type": "stream",
     "text": [
      "['LUMINOSITY', 'AVERAGE_CLOUDINESS']\n"
     ]
    }
   ],
   "source": [
    "# identificar todos os dados categóricos\n",
    "cat_columns = list(df.select_dtypes(['object']).columns)\n",
    "cat_columns.remove('AVERAGE_SPEED_DIFF')\n",
    "print(cat_columns)"
   ]
  },
  {
   "cell_type": "code",
   "execution_count": 18,
   "id": "34ac62f4-d74a-4cc8-b884-e185276b627b",
   "metadata": {},
   "outputs": [],
   "source": [
    "# trnasformar dados categóricos em numéricos\n",
    "df[cat_columns] = df[cat_columns].apply(lambda x: pd.factorize(x)[0])\n",
    "df_test[cat_columns] = df_test[cat_columns].apply(lambda x: pd.factorize(x)[0])"
   ]
  },
  {
   "cell_type": "code",
   "execution_count": 19,
   "id": "809fcee3-de02-4ba8-887c-ab25d53f4b1c",
   "metadata": {},
   "outputs": [
    {
     "name": "stdout",
     "output_type": "stream",
     "text": [
      "['Medium' 'High' 'None' 'Low' 'Very_High']\n"
     ]
    }
   ],
   "source": [
    "unique = df.AVERAGE_SPEED_DIFF.unique()\n",
    "print(unique)\n",
    "convert_inv = {i: unique[i] for i in range(0,len(unique))}\n",
    "convert = {unique[i]: i for i in range(0,len(unique))}\n",
    "df.AVERAGE_SPEED_DIFF = [convert[i] for i in df.AVERAGE_SPEED_DIFF]"
   ]
  },
  {
   "cell_type": "code",
   "execution_count": 20,
   "id": "8ddb1002-9b04-48b5-994b-74a8566adf1c",
   "metadata": {},
   "outputs": [],
   "source": [
    "#decision tree classifier\n",
    "#creating x (input data) and y (target feature - the AVERAGE_SPEED_DIFF feature)\n",
    "x = df.drop(['AVERAGE_SPEED_DIFF'], axis = 1) #input features - everything except the AVERAGE_SPEED_DIFF feature\n",
    "y = df['AVERAGE_SPEED_DIFF'].to_frame() #target feature"
   ]
  },
  {
   "cell_type": "code",
   "execution_count": 21,
   "id": "606d15aa-e8f5-40e6-affb-f81754be21be",
   "metadata": {},
   "outputs": [
    {
     "data": {
      "text/html": [
       "<div>\n",
       "<style scoped>\n",
       "    .dataframe tbody tr th:only-of-type {\n",
       "        vertical-align: middle;\n",
       "    }\n",
       "\n",
       "    .dataframe tbody tr th {\n",
       "        vertical-align: top;\n",
       "    }\n",
       "\n",
       "    .dataframe thead th {\n",
       "        text-align: right;\n",
       "    }\n",
       "</style>\n",
       "<table border=\"1\" class=\"dataframe\">\n",
       "  <thead>\n",
       "    <tr style=\"text-align: right;\">\n",
       "      <th></th>\n",
       "      <th>AVERAGE_FREE_FLOW_SPEED</th>\n",
       "      <th>AVERAGE_TIME_DIFF</th>\n",
       "      <th>AVERAGE_FREE_FLOW_TIME</th>\n",
       "      <th>LUMINOSITY</th>\n",
       "      <th>AVERAGE_TEMPERATURE</th>\n",
       "      <th>AVERAGE_ATMOSP_PRESSURE</th>\n",
       "      <th>AVERAGE_HUMIDITY</th>\n",
       "      <th>AVERAGE_WIND_SPEED</th>\n",
       "      <th>AVERAGE_CLOUDINESS</th>\n",
       "      <th>WEEK_DAY</th>\n",
       "    </tr>\n",
       "  </thead>\n",
       "  <tbody>\n",
       "    <tr>\n",
       "      <th>0</th>\n",
       "      <td>41.5</td>\n",
       "      <td>11.5</td>\n",
       "      <td>71.4</td>\n",
       "      <td>0</td>\n",
       "      <td>15.0</td>\n",
       "      <td>1019.0</td>\n",
       "      <td>100.0</td>\n",
       "      <td>3.0</td>\n",
       "      <td>-1</td>\n",
       "      <td>3</td>\n",
       "    </tr>\n",
       "    <tr>\n",
       "      <th>1</th>\n",
       "      <td>41.7</td>\n",
       "      <td>48.3</td>\n",
       "      <td>87.4</td>\n",
       "      <td>0</td>\n",
       "      <td>21.0</td>\n",
       "      <td>1021.0</td>\n",
       "      <td>53.0</td>\n",
       "      <td>5.0</td>\n",
       "      <td>0</td>\n",
       "      <td>4</td>\n",
       "    </tr>\n",
       "    <tr>\n",
       "      <th>2</th>\n",
       "      <td>38.6</td>\n",
       "      <td>38.4</td>\n",
       "      <td>85.2</td>\n",
       "      <td>0</td>\n",
       "      <td>26.0</td>\n",
       "      <td>1014.0</td>\n",
       "      <td>61.0</td>\n",
       "      <td>4.0</td>\n",
       "      <td>-1</td>\n",
       "      <td>6</td>\n",
       "    </tr>\n",
       "    <tr>\n",
       "      <th>3</th>\n",
       "      <td>37.4</td>\n",
       "      <td>61.0</td>\n",
       "      <td>94.1</td>\n",
       "      <td>0</td>\n",
       "      <td>18.0</td>\n",
       "      <td>1025.0</td>\n",
       "      <td>48.0</td>\n",
       "      <td>4.0</td>\n",
       "      <td>0</td>\n",
       "      <td>1</td>\n",
       "    </tr>\n",
       "    <tr>\n",
       "      <th>4</th>\n",
       "      <td>41.6</td>\n",
       "      <td>50.4</td>\n",
       "      <td>77.0</td>\n",
       "      <td>0</td>\n",
       "      <td>15.0</td>\n",
       "      <td>1008.0</td>\n",
       "      <td>82.0</td>\n",
       "      <td>10.0</td>\n",
       "      <td>-1</td>\n",
       "      <td>3</td>\n",
       "    </tr>\n",
       "    <tr>\n",
       "      <th>...</th>\n",
       "      <td>...</td>\n",
       "      <td>...</td>\n",
       "      <td>...</td>\n",
       "      <td>...</td>\n",
       "      <td>...</td>\n",
       "      <td>...</td>\n",
       "      <td>...</td>\n",
       "      <td>...</td>\n",
       "      <td>...</td>\n",
       "      <td>...</td>\n",
       "    </tr>\n",
       "    <tr>\n",
       "      <th>6807</th>\n",
       "      <td>41.2</td>\n",
       "      <td>3.7</td>\n",
       "      <td>86.9</td>\n",
       "      <td>0</td>\n",
       "      <td>9.0</td>\n",
       "      <td>1030.0</td>\n",
       "      <td>71.0</td>\n",
       "      <td>4.0</td>\n",
       "      <td>0</td>\n",
       "      <td>5</td>\n",
       "    </tr>\n",
       "    <tr>\n",
       "      <th>6808</th>\n",
       "      <td>38.9</td>\n",
       "      <td>51.9</td>\n",
       "      <td>76.9</td>\n",
       "      <td>0</td>\n",
       "      <td>17.0</td>\n",
       "      <td>1020.0</td>\n",
       "      <td>63.0</td>\n",
       "      <td>6.0</td>\n",
       "      <td>-1</td>\n",
       "      <td>5</td>\n",
       "    </tr>\n",
       "    <tr>\n",
       "      <th>6809</th>\n",
       "      <td>39.6</td>\n",
       "      <td>0.0</td>\n",
       "      <td>89.1</td>\n",
       "      <td>2</td>\n",
       "      <td>15.0</td>\n",
       "      <td>1020.0</td>\n",
       "      <td>39.0</td>\n",
       "      <td>4.0</td>\n",
       "      <td>0</td>\n",
       "      <td>1</td>\n",
       "    </tr>\n",
       "    <tr>\n",
       "      <th>6810</th>\n",
       "      <td>41.6</td>\n",
       "      <td>0.0</td>\n",
       "      <td>85.5</td>\n",
       "      <td>2</td>\n",
       "      <td>8.0</td>\n",
       "      <td>1018.0</td>\n",
       "      <td>81.0</td>\n",
       "      <td>1.0</td>\n",
       "      <td>4</td>\n",
       "      <td>2</td>\n",
       "    </tr>\n",
       "    <tr>\n",
       "      <th>6811</th>\n",
       "      <td>41.7</td>\n",
       "      <td>32.9</td>\n",
       "      <td>78.1</td>\n",
       "      <td>2</td>\n",
       "      <td>15.0</td>\n",
       "      <td>1021.0</td>\n",
       "      <td>72.0</td>\n",
       "      <td>4.0</td>\n",
       "      <td>-1</td>\n",
       "      <td>5</td>\n",
       "    </tr>\n",
       "  </tbody>\n",
       "</table>\n",
       "<p>6812 rows × 10 columns</p>\n",
       "</div>"
      ],
      "text/plain": [
       "      AVERAGE_FREE_FLOW_SPEED  AVERAGE_TIME_DIFF  AVERAGE_FREE_FLOW_TIME  \\\n",
       "0                        41.5               11.5                    71.4   \n",
       "1                        41.7               48.3                    87.4   \n",
       "2                        38.6               38.4                    85.2   \n",
       "3                        37.4               61.0                    94.1   \n",
       "4                        41.6               50.4                    77.0   \n",
       "...                       ...                ...                     ...   \n",
       "6807                     41.2                3.7                    86.9   \n",
       "6808                     38.9               51.9                    76.9   \n",
       "6809                     39.6                0.0                    89.1   \n",
       "6810                     41.6                0.0                    85.5   \n",
       "6811                     41.7               32.9                    78.1   \n",
       "\n",
       "      LUMINOSITY  AVERAGE_TEMPERATURE  AVERAGE_ATMOSP_PRESSURE  \\\n",
       "0              0                 15.0                   1019.0   \n",
       "1              0                 21.0                   1021.0   \n",
       "2              0                 26.0                   1014.0   \n",
       "3              0                 18.0                   1025.0   \n",
       "4              0                 15.0                   1008.0   \n",
       "...          ...                  ...                      ...   \n",
       "6807           0                  9.0                   1030.0   \n",
       "6808           0                 17.0                   1020.0   \n",
       "6809           2                 15.0                   1020.0   \n",
       "6810           2                  8.0                   1018.0   \n",
       "6811           2                 15.0                   1021.0   \n",
       "\n",
       "      AVERAGE_HUMIDITY  AVERAGE_WIND_SPEED  AVERAGE_CLOUDINESS  WEEK_DAY  \n",
       "0                100.0                 3.0                  -1         3  \n",
       "1                 53.0                 5.0                   0         4  \n",
       "2                 61.0                 4.0                  -1         6  \n",
       "3                 48.0                 4.0                   0         1  \n",
       "4                 82.0                10.0                  -1         3  \n",
       "...                ...                 ...                 ...       ...  \n",
       "6807              71.0                 4.0                   0         5  \n",
       "6808              63.0                 6.0                  -1         5  \n",
       "6809              39.0                 4.0                   0         1  \n",
       "6810              81.0                 1.0                   4         2  \n",
       "6811              72.0                 4.0                  -1         5  \n",
       "\n",
       "[6812 rows x 10 columns]"
      ]
     },
     "execution_count": 21,
     "metadata": {},
     "output_type": "execute_result"
    }
   ],
   "source": [
    "x"
   ]
  },
  {
   "cell_type": "code",
   "execution_count": 22,
   "id": "e78a783e-b298-4b6e-a490-29c57a03de28",
   "metadata": {},
   "outputs": [
    {
     "data": {
      "text/html": [
       "<div>\n",
       "<style scoped>\n",
       "    .dataframe tbody tr th:only-of-type {\n",
       "        vertical-align: middle;\n",
       "    }\n",
       "\n",
       "    .dataframe tbody tr th {\n",
       "        vertical-align: top;\n",
       "    }\n",
       "\n",
       "    .dataframe thead th {\n",
       "        text-align: right;\n",
       "    }\n",
       "</style>\n",
       "<table border=\"1\" class=\"dataframe\">\n",
       "  <thead>\n",
       "    <tr style=\"text-align: right;\">\n",
       "      <th></th>\n",
       "      <th>AVERAGE_SPEED_DIFF</th>\n",
       "    </tr>\n",
       "  </thead>\n",
       "  <tbody>\n",
       "    <tr>\n",
       "      <th>0</th>\n",
       "      <td>0</td>\n",
       "    </tr>\n",
       "    <tr>\n",
       "      <th>1</th>\n",
       "      <td>1</td>\n",
       "    </tr>\n",
       "    <tr>\n",
       "      <th>2</th>\n",
       "      <td>1</td>\n",
       "    </tr>\n",
       "    <tr>\n",
       "      <th>3</th>\n",
       "      <td>1</td>\n",
       "    </tr>\n",
       "    <tr>\n",
       "      <th>4</th>\n",
       "      <td>0</td>\n",
       "    </tr>\n",
       "    <tr>\n",
       "      <th>...</th>\n",
       "      <td>...</td>\n",
       "    </tr>\n",
       "    <tr>\n",
       "      <th>6807</th>\n",
       "      <td>3</td>\n",
       "    </tr>\n",
       "    <tr>\n",
       "      <th>6808</th>\n",
       "      <td>0</td>\n",
       "    </tr>\n",
       "    <tr>\n",
       "      <th>6809</th>\n",
       "      <td>2</td>\n",
       "    </tr>\n",
       "    <tr>\n",
       "      <th>6810</th>\n",
       "      <td>2</td>\n",
       "    </tr>\n",
       "    <tr>\n",
       "      <th>6811</th>\n",
       "      <td>0</td>\n",
       "    </tr>\n",
       "  </tbody>\n",
       "</table>\n",
       "<p>6812 rows × 1 columns</p>\n",
       "</div>"
      ],
      "text/plain": [
       "      AVERAGE_SPEED_DIFF\n",
       "0                      0\n",
       "1                      1\n",
       "2                      1\n",
       "3                      1\n",
       "4                      0\n",
       "...                  ...\n",
       "6807                   3\n",
       "6808                   0\n",
       "6809                   2\n",
       "6810                   2\n",
       "6811                   0\n",
       "\n",
       "[6812 rows x 1 columns]"
      ]
     },
     "execution_count": 22,
     "metadata": {},
     "output_type": "execute_result"
    }
   ],
   "source": [
    "y"
   ]
  },
  {
   "cell_type": "code",
   "execution_count": 23,
   "id": "65505fcd-7d84-4897-9d13-eebda25b9c14",
   "metadata": {},
   "outputs": [],
   "source": [
    "# train/test slipt\n",
    "# usar x e y que contém 6812 linhas de data para criar train e test sets de data\n",
    "# Importante -> Definir a random_state para reproducibility\n",
    "x_train, x_test, y_train, y_test = train_test_split(x, y, test_size = 0.25, random_state = 2021)"
   ]
  },
  {
   "cell_type": "code",
   "execution_count": 24,
   "id": "3867be1a-0a9e-4d4a-b008-f3402cae3562",
   "metadata": {},
   "outputs": [
    {
     "name": "stdout",
     "output_type": "stream",
     "text": [
      "The sape of x (6812, 10). x_train has shape (5109, 10) while x_test has shape (1703, 10)\n"
     ]
    }
   ],
   "source": [
    "print(\"The sape of x %s. x_train has shape %s while x_test has shape %s\" %(x.shape, x_train.shape, x_test.shape))"
   ]
  },
  {
   "cell_type": "code",
   "execution_count": 25,
   "id": "93e5dee9-e345-47dd-b389-3a5ff7d28dec",
   "metadata": {},
   "outputs": [
    {
     "name": "stdout",
     "output_type": "stream",
     "text": [
      "The sape of y (6812, 1). y_train has shape (5109, 1) while y_test has shape (1703, 1)\n"
     ]
    }
   ],
   "source": [
    "print(\"The sape of y %s. y_train has shape %s while y_test has shape %s\" %(y.shape, y_train.shape, y_test.shape))"
   ]
  },
  {
   "cell_type": "code",
   "execution_count": 26,
   "id": "fe3d9f8a-2909-4b5b-9899-2d9da4f10fb1",
   "metadata": {},
   "outputs": [
    {
     "data": {
      "text/plain": [
       "array([[246,  74,   9,  73,   1],\n",
       "       [ 55, 197,   0,   3,  19],\n",
       "       [ 11,   0, 479,  78,   0],\n",
       "       [ 54,   6,  84, 188,   0],\n",
       "       [  2,  32,   0,   0,  92]])"
      ]
     },
     "execution_count": 26,
     "metadata": {},
     "output_type": "execute_result"
    }
   ],
   "source": [
    "clf = DecisionTreeClassifier(random_state = 2021)\n",
    "clf.fit(x_train, y_train)\n",
    "predictions = clf.predict(x_test)\n",
    "# confusion matrix-based metrics \n",
    "confusion_matrix(y_test, predictions)"
   ]
  },
  {
   "cell_type": "code",
   "execution_count": 27,
   "id": "f17e05ee-fec6-4108-8c33-38f8004a7905",
   "metadata": {},
   "outputs": [
    {
     "name": "stdout",
     "output_type": "stream",
     "text": [
      "0.71 accuracy\n"
     ]
    }
   ],
   "source": [
    "print(\"%0.2f accuracy\" % (accuracy_score(y_test, predictions)))"
   ]
  },
  {
   "cell_type": "code",
   "execution_count": 28,
   "id": "5f93c6be-b87a-4c00-9254-d68dbf32a35d",
   "metadata": {},
   "outputs": [
    {
     "data": {
      "text/plain": [
       "<AxesSubplot:>"
      ]
     },
     "execution_count": 28,
     "metadata": {},
     "output_type": "execute_result"
    },
    {
     "data": {
      "image/png": "[encoded data removed]",
      "text/plain": [
       "<Figure size 432x288 with 1 Axes>"
      ]
     },
     "metadata": {
      "needs_background": "light"
     },
     "output_type": "display_data"
    }
   ],
   "source": [
    "sns.heatmap(df.isnull(),yticklabels = False, cbar = False, cmap = 'viridis')"
   ]
  },
  {
   "cell_type": "code",
   "execution_count": 29,
   "id": "b1432bc3-01d4-4215-a1a7-4590200d2b90",
   "metadata": {},
   "outputs": [
    {
     "data": {
      "text/plain": [
       "<AxesSubplot:xlabel='AVERAGE_SPEED_DIFF', ylabel='count'>"
      ]
     },
     "execution_count": 29,
     "metadata": {},
     "output_type": "execute_result"
    },
    {
     "data": {
      "image/png": "[encoded data removed]",
      "text/plain": [
       "<Figure size 432x288 with 1 Axes>"
      ]
     },
     "metadata": {},
     "output_type": "display_data"
    }
   ],
   "source": [
    "sns.set_style('whitegrid')\n",
    "sns.countplot(x = 'AVERAGE_SPEED_DIFF', data = df, palette = 'RdBu_r')"
   ]
  },
  {
   "cell_type": "code",
   "execution_count": 30,
   "id": "fd0ed7d1-7860-4f34-afcd-7e7209ec677e",
   "metadata": {},
   "outputs": [
    {
     "data": {
      "text/plain": [
       "<AxesSubplot:xlabel='AVERAGE_SPEED_DIFF', ylabel='count'>"
      ]
     },
     "execution_count": 30,
     "metadata": {},
     "output_type": "execute_result"
    },
    {
     "data": {
      "image/png": "[encoded data removed]",
      "text/plain": [
       "<Figure size 432x288 with 1 Axes>"
      ]
     },
     "metadata": {},
     "output_type": "display_data"
    }
   ],
   "source": [
    "sns.set_style('whitegrid')\n",
    "sns.countplot(x = 'AVERAGE_SPEED_DIFF', hue = 'AVERAGE_CLOUDINESS', data = df, palette = 'rainbow')"
   ]
  },
  {
   "cell_type": "code",
   "execution_count": 31,
   "id": "93ee6a3e-242f-4d2f-bfc8-4f07c15bd6e1",
   "metadata": {},
   "outputs": [
    {
     "data": {
      "text/plain": [
       "<seaborn.axisgrid.FacetGrid at 0x7faa8ee6bd90>"
      ]
     },
     "execution_count": 31,
     "metadata": {},
     "output_type": "execute_result"
    },
    {
     "data": {
      "image/png": "[encoded data removed]",
      "text/plain": [
       "<Figure size 360x360 with 1 Axes>"
      ]
     },
     "metadata": {},
     "output_type": "display_data"
    }
   ],
   "source": [
    "sns.displot(df['AVERAGE_SPEED_DIFF'].dropna(), kde = False, color = 'darkred', bins = 30)"
   ]
  },
  {
   "cell_type": "code",
   "execution_count": 32,
   "id": "568619c2-c57f-4d33-ac35-74df8e53580d",
   "metadata": {},
   "outputs": [
    {
     "data": {
      "text/plain": [
       "<AxesSubplot:xlabel='LUMINOSITY', ylabel='count'>"
      ]
     },
     "execution_count": 32,
     "metadata": {},
     "output_type": "execute_result"
    },
    {
     "data": {
      "image/png": "[encoded data removed]",
      "text/plain": [
       "<Figure size 432x288 with 1 Axes>"
      ]
     },
     "metadata": {},
     "output_type": "display_data"
    }
   ],
   "source": [
    "sns.countplot(x = 'LUMINOSITY', data = df)"
   ]
  },
  {
   "cell_type": "code",
   "execution_count": 33,
   "id": "c216d3df-3577-4734-a705-947f9db333d6",
   "metadata": {},
   "outputs": [
    {
     "data": {
      "text/plain": [
       "<AxesSubplot:>"
      ]
     },
     "execution_count": 33,
     "metadata": {},
     "output_type": "execute_result"
    },
    {
     "data": {
      "image/png": "[encoded data removed]",
      "text/plain": [
       "<Figure size 576x288 with 1 Axes>"
      ]
     },
     "metadata": {},
     "output_type": "display_data"
    }
   ],
   "source": [
    "df['AVERAGE_ATMOSP_PRESSURE'].hist(color = 'green', bins = 40, figsize = (8,4))"
   ]
  },
  {
   "cell_type": "code",
   "execution_count": 34,
   "id": "9892a6d7-228e-4aab-95b6-264966d0960f",
   "metadata": {},
   "outputs": [
    {
     "data": {
      "text/plain": [
       "<AxesSubplot:xlabel='AVERAGE_CLOUDINESS', ylabel='AVERAGE_SPEED_DIFF'>"
      ]
     },
     "execution_count": 34,
     "metadata": {},
     "output_type": "execute_result"
    },
    {
     "data": {
      "image/png": "[encoded data removed]",
      "text/plain": [
       "<Figure size 864x504 with 1 Axes>"
      ]
     },
     "metadata": {},
     "output_type": "display_data"
    }
   ],
   "source": [
    "# Data cleaning\n",
    "plt.figure(figsize = (12, 7))\n",
    "sns.boxplot(x = 'AVERAGE_CLOUDINESS', y = 'AVERAGE_SPEED_DIFF', data = df, palette = 'winter')"
   ]
  },
  {
   "cell_type": "code",
   "execution_count": 35,
   "id": "c5631bbe-5b51-4bb8-9a12-02ff2e67f660",
   "metadata": {},
   "outputs": [],
   "source": [
    "def inpute_AVERAGE_SPEED_DIFF(cols):\n",
    "    AVERAGE_SPEED_DIFF = cols[0]\n",
    "    AVERAGE_CLOUDINESS = cols[1]\n",
    "    \n",
    "    if pd.isnull(AVERAGE_SPEED_DIFF):\n",
    "        \n",
    "        if AVERAGE_CLOUDINESS == 1:\n",
    "            return 37\n",
    "        \n",
    "        elif AVERAGE_CLOUDINESS == 2:\n",
    "            return 29\n",
    "        \n",
    "        else:\n",
    "            return 24\n",
    "        \n",
    "    else:\n",
    "        return AVERAGE_SPEED_DIFF"
   ]
  },
  {
   "cell_type": "code",
   "execution_count": 36,
   "id": "0f3c473c-cbdb-448b-82be-cd4d71bdbd0d",
   "metadata": {},
   "outputs": [],
   "source": [
    "df['AVERAGE_SPEED_DIFF'] = df[['AVERAGE_SPEED_DIFF', 'AVERAGE_CLOUDINESS']].apply(inpute_AVERAGE_SPEED_DIFF, axis = 1)"
   ]
  },
  {
   "cell_type": "code",
   "execution_count": 37,
   "id": "720957f8-620f-4d08-97f8-e9ac5385c7a9",
   "metadata": {},
   "outputs": [
    {
     "data": {
      "text/plain": [
       "<AxesSubplot:>"
      ]
     },
     "execution_count": 37,
     "metadata": {},
     "output_type": "execute_result"
    },
    {
     "data": {
      "image/png": "[encoded data removed]",
      "text/plain": [
       "<Figure size 432x288 with 1 Axes>"
      ]
     },
     "metadata": {},
     "output_type": "display_data"
    }
   ],
   "source": [
    "sns.heatmap(df.isnull(), yticklabels = False, cbar = False, cmap = 'viridis')"
   ]
  },
  {
   "cell_type": "code",
   "execution_count": 38,
   "id": "1afca9fc-9134-4c58-a95d-83190e37636a",
   "metadata": {},
   "outputs": [
    {
     "name": "stdout",
     "output_type": "stream",
     "text": [
      "<class 'pandas.core.frame.DataFrame'>\n",
      "RangeIndex: 6812 entries, 0 to 6811\n",
      "Data columns (total 11 columns):\n",
      " #   Column                   Non-Null Count  Dtype  \n",
      "---  ------                   --------------  -----  \n",
      " 0   AVERAGE_SPEED_DIFF       6812 non-null   int64  \n",
      " 1   AVERAGE_FREE_FLOW_SPEED  6812 non-null   float64\n",
      " 2   AVERAGE_TIME_DIFF        6812 non-null   float64\n",
      " 3   AVERAGE_FREE_FLOW_TIME   6812 non-null   float64\n",
      " 4   LUMINOSITY               6812 non-null   int64  \n",
      " 5   AVERAGE_TEMPERATURE      6812 non-null   float64\n",
      " 6   AVERAGE_ATMOSP_PRESSURE  6812 non-null   float64\n",
      " 7   AVERAGE_HUMIDITY         6812 non-null   float64\n",
      " 8   AVERAGE_WIND_SPEED       6812 non-null   float64\n",
      " 9   AVERAGE_CLOUDINESS       6812 non-null   int64  \n",
      " 10  WEEK_DAY                 6812 non-null   int64  \n",
      "dtypes: float64(7), int64(4)\n",
      "memory usage: 585.5 KB\n"
     ]
    }
   ],
   "source": [
    "df.info()"
   ]
  },
  {
   "cell_type": "code",
   "execution_count": 39,
   "id": "28147adc-e095-48d3-b136-29ea792cb2c2",
   "metadata": {},
   "outputs": [],
   "source": [
    "x_train, x_test, y_train, y_test = train_test_split(df.drop('AVERAGE_SPEED_DIFF', axis = 1), df[['AVERAGE_SPEED_DIFF']], test_size = 0.25, random_state = 101)"
   ]
  },
  {
   "cell_type": "code",
   "execution_count": 40,
   "id": "6e8e392c-b6f9-4946-9d6e-16f4885296bf",
   "metadata": {},
   "outputs": [
    {
     "name": "stderr",
     "output_type": "stream",
     "text": [
      "/Users/alexandracandeias/opt/anaconda3/envs/DAA8/lib/python3.9/site-packages/sklearn/linear_model/_logistic.py:814: ConvergenceWarning: lbfgs failed to converge (status=1):\n",
      "STOP: TOTAL NO. of ITERATIONS REACHED LIMIT.\n",
      "\n",
      "Increase the number of iterations (max_iter) or scale the data as shown in:\n",
      "    https://scikit-learn.org/stable/modules/preprocessing.html\n",
      "Please also refer to the documentation for alternative solver options:\n",
      "    https://scikit-learn.org/stable/modules/linear_model.html#logistic-regression\n",
      "  n_iter_i = _check_optimize_result(\n"
     ]
    },
    {
     "data": {
      "text/plain": [
       "LogisticRegression()"
      ]
     },
     "execution_count": 40,
     "metadata": {},
     "output_type": "execute_result"
    }
   ],
   "source": [
    "logmodel = LogisticRegression()\n",
    "logmodel.fit(x_train, np.ravel(y_train))"
   ]
  },
  {
   "cell_type": "code",
   "execution_count": 41,
   "id": "1c463016-3d34-4d78-846f-429c1d828e4f",
   "metadata": {},
   "outputs": [],
   "source": [
    "predictions = logmodel.predict(x_test)"
   ]
  },
  {
   "cell_type": "code",
   "execution_count": 42,
   "id": "4d7061a2-f9d5-4116-b9c3-4295434406a2",
   "metadata": {},
   "outputs": [
    {
     "name": "stdout",
     "output_type": "stream",
     "text": [
      "              precision    recall  f1-score   support\n",
      "\n",
      "           0       0.68      0.70      0.69       390\n",
      "           1       0.68      0.61      0.64       268\n",
      "           2       0.82      0.93      0.87       605\n",
      "           3       0.67      0.58      0.62       349\n",
      "           4       0.70      0.57      0.63        91\n",
      "\n",
      "    accuracy                           0.74      1703\n",
      "   macro avg       0.71      0.68      0.69      1703\n",
      "weighted avg       0.73      0.74      0.73      1703\n",
      "\n"
     ]
    }
   ],
   "source": [
    "print(classification_report(y_test, predictions))"
   ]
  },
  {
   "cell_type": "code",
   "execution_count": 43,
   "id": "2109ff9d-eb05-4222-a42c-496f271892c1",
   "metadata": {},
   "outputs": [
    {
     "name": "stderr",
     "output_type": "stream",
     "text": [
      "/Users/alexandracandeias/opt/anaconda3/envs/DAA8/lib/python3.9/site-packages/sklearn/utils/deprecation.py:87: FutureWarning: Function plot_confusion_matrix is deprecated; Function `plot_confusion_matrix` is deprecated in 1.0 and will be removed in 1.2. Use one of the class methods: ConfusionMatrixDisplay.from_predictions or ConfusionMatrixDisplay.from_estimator.\n",
      "  warnings.warn(msg, category=FutureWarning)\n"
     ]
    },
    {
     "data": {
      "image/png": "[encoded data removed]",
      "text/plain": [
       "<Figure size 432x288 with 2 Axes>"
      ]
     },
     "metadata": {},
     "output_type": "display_data"
    }
   ],
   "source": [
    "# Get the confusion matrix\n",
    "plot_confusion_matrix(logmodel, x_test,y_test)\n",
    "plt.show()"
   ]
  },
  {
   "cell_type": "code",
   "execution_count": 44,
   "id": "263f8c98-f50d-4480-8e53-190c01203928",
   "metadata": {},
   "outputs": [
    {
     "data": {
      "text/plain": [
       "Index(['AVERAGE_SPEED_DIFF', 'AVERAGE_FREE_FLOW_SPEED', 'AVERAGE_TIME_DIFF',\n",
       "       'AVERAGE_FREE_FLOW_TIME', 'LUMINOSITY', 'AVERAGE_TEMPERATURE',\n",
       "       'AVERAGE_ATMOSP_PRESSURE', 'AVERAGE_HUMIDITY', 'AVERAGE_WIND_SPEED',\n",
       "       'AVERAGE_CLOUDINESS', 'WEEK_DAY'],\n",
       "      dtype='object')"
      ]
     },
     "execution_count": 44,
     "metadata": {},
     "output_type": "execute_result"
    }
   ],
   "source": [
    "df.keys()"
   ]
  },
  {
   "cell_type": "code",
   "execution_count": 45,
   "id": "6e70613e-1cc0-447d-a2bb-510576dde17a",
   "metadata": {},
   "outputs": [],
   "source": [
    "model = SVC(random_state = 2021)"
   ]
  },
  {
   "cell_type": "code",
   "execution_count": 46,
   "id": "d2a60e5e-f068-4ecd-beba-6c896a907f8b",
   "metadata": {},
   "outputs": [
    {
     "data": {
      "text/plain": [
       "SVC(random_state=2021)"
      ]
     },
     "execution_count": 46,
     "metadata": {},
     "output_type": "execute_result"
    }
   ],
   "source": [
    "model.fit(x_train, np.ravel(y_train))"
   ]
  },
  {
   "cell_type": "code",
   "execution_count": 47,
   "id": "0c65a041-3566-4ca5-946b-bf2d993b5d21",
   "metadata": {},
   "outputs": [],
   "source": [
    "predictions = model.predict(x_test)"
   ]
  },
  {
   "cell_type": "code",
   "execution_count": 48,
   "id": "ce00a358-7ff5-42be-b1e4-4efa4179fd47",
   "metadata": {},
   "outputs": [
    {
     "name": "stderr",
     "output_type": "stream",
     "text": [
      "/Users/alexandracandeias/opt/anaconda3/envs/DAA8/lib/python3.9/site-packages/sklearn/utils/deprecation.py:87: FutureWarning: Function plot_confusion_matrix is deprecated; Function `plot_confusion_matrix` is deprecated in 1.0 and will be removed in 1.2. Use one of the class methods: ConfusionMatrixDisplay.from_predictions or ConfusionMatrixDisplay.from_estimator.\n",
      "  warnings.warn(msg, category=FutureWarning)\n"
     ]
    },
    {
     "data": {
      "text/plain": [
       "<sklearn.metrics._plot.confusion_matrix.ConfusionMatrixDisplay at 0x7faa8ee9e6d0>"
      ]
     },
     "execution_count": 48,
     "metadata": {},
     "output_type": "execute_result"
    },
    {
     "data": {
      "image/png": "[encoded data removed]",
      "text/plain": [
       "<Figure size 432x288 with 2 Axes>"
      ]
     },
     "metadata": {},
     "output_type": "display_data"
    }
   ],
   "source": [
    "plot_confusion_matrix(model, x_test, y_test)"
   ]
  },
  {
   "cell_type": "code",
   "execution_count": 49,
   "id": "b1ee103a-66bf-4f8c-bbd2-a2dcb7371947",
   "metadata": {},
   "outputs": [
    {
     "name": "stdout",
     "output_type": "stream",
     "text": [
      "              precision    recall  f1-score   support\n",
      "\n",
      "           0       0.59      0.68      0.63       390\n",
      "           1       0.57      0.43      0.49       268\n",
      "           2       0.58      1.00      0.73       605\n",
      "           3       0.00      0.00      0.00       349\n",
      "           4       0.50      0.01      0.02        91\n",
      "\n",
      "    accuracy                           0.58      1703\n",
      "   macro avg       0.45      0.42      0.38      1703\n",
      "weighted avg       0.46      0.58      0.48      1703\n",
      "\n"
     ]
    },
    {
     "name": "stderr",
     "output_type": "stream",
     "text": [
      "/Users/alexandracandeias/opt/anaconda3/envs/DAA8/lib/python3.9/site-packages/sklearn/metrics/_classification.py:1308: UndefinedMetricWarning: Precision and F-score are ill-defined and being set to 0.0 in labels with no predicted samples. Use `zero_division` parameter to control this behavior.\n",
      "  _warn_prf(average, modifier, msg_start, len(result))\n",
      "/Users/alexandracandeias/opt/anaconda3/envs/DAA8/lib/python3.9/site-packages/sklearn/metrics/_classification.py:1308: UndefinedMetricWarning: Precision and F-score are ill-defined and being set to 0.0 in labels with no predicted samples. Use `zero_division` parameter to control this behavior.\n",
      "  _warn_prf(average, modifier, msg_start, len(result))\n",
      "/Users/alexandracandeias/opt/anaconda3/envs/DAA8/lib/python3.9/site-packages/sklearn/metrics/_classification.py:1308: UndefinedMetricWarning: Precision and F-score are ill-defined and being set to 0.0 in labels with no predicted samples. Use `zero_division` parameter to control this behavior.\n",
      "  _warn_prf(average, modifier, msg_start, len(result))\n"
     ]
    }
   ],
   "source": [
    "print(classification_report(y_test, predictions))"
   ]
  },
  {
   "cell_type": "code",
   "execution_count": 50,
   "id": "86a744c4-fd60-4b82-929c-cd66a3396770",
   "metadata": {},
   "outputs": [],
   "source": [
    "param_grid = {'C': [1000], 'gamma': [0.0001], 'kernel': ['rbf']}"
   ]
  },
  {
   "cell_type": "code",
   "execution_count": 51,
   "id": "7436246f-810e-4e32-9e14-f583ee46eb63",
   "metadata": {},
   "outputs": [],
   "source": [
    "grid = GridSearchCV(SVC(random_state = 2021), param_grid, refit = True, verbose = 3)"
   ]
  },
  {
   "cell_type": "code",
   "execution_count": 52,
   "id": "bb8a17b7-7cda-47f9-bc32-b8c572a94663",
   "metadata": {},
   "outputs": [
    {
     "name": "stdout",
     "output_type": "stream",
     "text": [
      "Fitting 5 folds for each of 1 candidates, totalling 5 fits\n",
      "[CV 1/5] END ..C=1000, gamma=0.0001, kernel=rbf;, score=0.769 total time=   1.4s\n",
      "[CV 2/5] END ..C=1000, gamma=0.0001, kernel=rbf;, score=0.762 total time=   1.5s\n",
      "[CV 3/5] END ..C=1000, gamma=0.0001, kernel=rbf;, score=0.788 total time=   2.4s\n",
      "[CV 4/5] END ..C=1000, gamma=0.0001, kernel=rbf;, score=0.793 total time=   1.5s\n",
      "[CV 5/5] END ..C=1000, gamma=0.0001, kernel=rbf;, score=0.779 total time=   1.1s\n"
     ]
    },
    {
     "data": {
      "text/plain": [
       "GridSearchCV(estimator=SVC(random_state=2021),\n",
       "             param_grid={'C': [1000], 'gamma': [0.0001], 'kernel': ['rbf']},\n",
       "             verbose=3)"
      ]
     },
     "execution_count": 52,
     "metadata": {},
     "output_type": "execute_result"
    }
   ],
   "source": [
    "grid.fit(x_train, np.ravel(y_train))"
   ]
  },
  {
   "cell_type": "code",
   "execution_count": 53,
   "id": "89d101ee-a944-4f98-a3ec-98c5f09f2df4",
   "metadata": {},
   "outputs": [
    {
     "data": {
      "text/plain": [
       "{'C': 1000, 'gamma': 0.0001, 'kernel': 'rbf'}"
      ]
     },
     "execution_count": 53,
     "metadata": {},
     "output_type": "execute_result"
    }
   ],
   "source": [
    "grid.best_params_"
   ]
  },
  {
   "cell_type": "code",
   "execution_count": 54,
   "id": "f24e0307-ae6a-40a6-9c2b-dfb6310de237",
   "metadata": {},
   "outputs": [
    {
     "data": {
      "text/plain": [
       "SVC(C=1000, gamma=0.0001, random_state=2021)"
      ]
     },
     "execution_count": 54,
     "metadata": {},
     "output_type": "execute_result"
    }
   ],
   "source": [
    "grid.best_estimator_"
   ]
  },
  {
   "cell_type": "code",
   "execution_count": 55,
   "id": "26f649ca-539e-44cc-85bc-9b8004e610c6",
   "metadata": {},
   "outputs": [
    {
     "name": "stderr",
     "output_type": "stream",
     "text": [
      "/Users/alexandracandeias/opt/anaconda3/envs/DAA8/lib/python3.9/site-packages/sklearn/utils/deprecation.py:87: FutureWarning: Function plot_confusion_matrix is deprecated; Function `plot_confusion_matrix` is deprecated in 1.0 and will be removed in 1.2. Use one of the class methods: ConfusionMatrixDisplay.from_predictions or ConfusionMatrixDisplay.from_estimator.\n",
      "  warnings.warn(msg, category=FutureWarning)\n"
     ]
    },
    {
     "data": {
      "text/plain": [
       "<sklearn.metrics._plot.confusion_matrix.ConfusionMatrixDisplay at 0x7faa9106dd30>"
      ]
     },
     "execution_count": 55,
     "metadata": {},
     "output_type": "execute_result"
    },
    {
     "data": {
      "image/png": "[encoded data removed]",
      "text/plain": [
       "<Figure size 432x288 with 2 Axes>"
      ]
     },
     "metadata": {},
     "output_type": "display_data"
    }
   ],
   "source": [
    "plot_confusion_matrix(grid, x_test, y_test)"
   ]
  },
  {
   "cell_type": "code",
   "execution_count": 56,
   "id": "031e4651-b22b-41bd-aac4-bcdcf5bb7644",
   "metadata": {},
   "outputs": [
    {
     "name": "stdout",
     "output_type": "stream",
     "text": [
      "              precision    recall  f1-score   support\n",
      "\n",
      "           0       0.77      0.71      0.74       390\n",
      "           1       0.77      0.76      0.77       268\n",
      "           2       0.87      0.89      0.88       605\n",
      "           3       0.64      0.69      0.67       349\n",
      "           4       0.82      0.76      0.79        91\n",
      "\n",
      "    accuracy                           0.78      1703\n",
      "   macro avg       0.78      0.76      0.77      1703\n",
      "weighted avg       0.78      0.78      0.78      1703\n",
      "\n"
     ]
    }
   ],
   "source": [
    "grid_predictions = grid.predict(x_test)\n",
    "print(classification_report(y_test, grid_predictions))"
   ]
  },
  {
   "cell_type": "code",
   "execution_count": 62,
   "id": "acc22abc-f1e1-4112-a072-e0f76368c557",
   "metadata": {},
   "outputs": [],
   "source": [
    "test_prediction = logmodel.predict(df_test)\n",
    "temp = []\n",
    "for ele in test_prediction:\n",
    "    temp.append(convert_inv[ele])\n",
    "\n",
    "data = {\n",
    "    \"RowId\": range(1,len(temp)+1),\n",
    "    \"Speed_Diff\": temp\n",
    "}\n",
    "result = pd.DataFrame.from_dict(data)\n",
    "result.to_csv(\"submission.csv\", index = False)"
   ]
  },
  {
   "cell_type": "code",
   "execution_count": null,
   "id": "999f3866-0242-450d-8f03-d6dbae6d275b",
   "metadata": {},
   "outputs": [],
   "source": []
  }
 ],
 "metadata": {
  "kernelspec": {
   "display_name": "Python 3 (ipykernel)",
   "language": "python",
   "name": "python3"
  },
  "language_info": {
   "codemirror_mode": {
    "name": "ipython",
    "version": 3
   },
   "file_extension": ".py",
   "mimetype": "text/x-python",
   "name": "python",
   "nbconvert_exporter": "python",
   "pygments_lexer": "ipython3",
   "version": "3.9.0"
  }
 },
 "nbformat": 4,
 "nbformat_minor": 5
}
